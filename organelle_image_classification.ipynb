{
 "cells": [
  {
   "cell_type": "markdown",
   "metadata": {},
   "source": [
    "# Organelle image classification"
   ]
  },
  {
   "cell_type": "code",
   "execution_count": 22,
   "metadata": {},
   "outputs": [],
   "source": [
    "import numpy as np\n",
    "import pandas as pd\n",
    "import torch\n",
    "import torch.nn as nn\n",
    "import torch.optim as optim\n",
    "from torch.utils.data import Dataset, DataLoader\n",
    "from torchvision.transforms import transforms\n",
    "from PIL import Image\n",
    "import os\n",
    "from sklearn.model_selection import train_test_split\n",
    "import matplotlib.pyplot as plt\n",
    "import seaborn as sns\n",
    "from sklearn.utils.class_weight import compute_class_weight\n",
    "from torchinfo import summary\n",
    "from sklearn.metrics import precision_score, recall_score, f1_score"
   ]
  },
  {
   "cell_type": "markdown",
   "metadata": {},
   "source": [
    "## 1. Introduction\n",
    "\n",
    "This project aims to revolutionize protein classification through advanced image analysis techniques. The primary objective is to create a machine learning model capable of predicting the presence of specific proteins within a given image or multiple images, addressing the complexity of a multi-label classification challenge. The metric of choice for assessing model performance is the mean F1-score, ensuring precision and recall are both accounted for."
   ]
  },
  {
   "cell_type": "markdown",
   "metadata": {},
   "source": [
    "## 2. Loading the data"
   ]
  },
  {
   "cell_type": "code",
   "execution_count": 2,
   "metadata": {},
   "outputs": [],
   "source": [
    "# load data\n",
    "train_data_dir = \"./train\"\n",
    "train_csv = \"./train.csv\"\n",
    "\n",
    "test_data_dir = \"./test\"\n",
    "test_csv = \"./sub.csv\""
   ]
  },
  {
   "cell_type": "code",
   "execution_count": 3,
   "metadata": {},
   "outputs": [],
   "source": [
    "# Load the csv file containing the train labels\n",
    "train_df = pd.read_csv(train_csv)\n",
    "test_df = pd.read_csv(test_csv)"
   ]
  },
  {
   "cell_type": "code",
   "execution_count": 4,
   "metadata": {},
   "outputs": [],
   "source": [
    "# label dictionary\n",
    "labels = {\n",
    "    0: \"Mitochondria\",\n",
    "    1: \"Nuclear bodies\",\n",
    "    2: \"Nucleoli\",\n",
    "    3: \"Golgi apparatus\",\n",
    "    4: \"Nucleoplasm\",\n",
    "    5: \"Nucleoli fibrillar center\",\n",
    "    6: \"Cytosol\",\n",
    "    7: \"Plasma membrane\",\n",
    "    8: \"Centrosome\",\n",
    "    9: \"Nuclear speckles\",\n",
    "}"
   ]
  },
  {
   "cell_type": "markdown",
   "metadata": {},
   "source": [
    "# 3. Data exploration"
   ]
  },
  {
   "cell_type": "code",
   "execution_count": 5,
   "metadata": {},
   "outputs": [
    {
     "data": {
      "text/html": [
       "<div>\n",
       "<style scoped>\n",
       "    .dataframe tbody tr th:only-of-type {\n",
       "        vertical-align: middle;\n",
       "    }\n",
       "\n",
       "    .dataframe tbody tr th {\n",
       "        vertical-align: top;\n",
       "    }\n",
       "\n",
       "    .dataframe thead th {\n",
       "        text-align: right;\n",
       "    }\n",
       "</style>\n",
       "<table border=\"1\" class=\"dataframe\">\n",
       "  <thead>\n",
       "    <tr style=\"text-align: right;\">\n",
       "      <th></th>\n",
       "      <th>Image</th>\n",
       "      <th>Label</th>\n",
       "    </tr>\n",
       "  </thead>\n",
       "  <tbody>\n",
       "    <tr>\n",
       "      <th>0</th>\n",
       "      <td>12874</td>\n",
       "      <td>1 4</td>\n",
       "    </tr>\n",
       "    <tr>\n",
       "      <th>1</th>\n",
       "      <td>21466</td>\n",
       "      <td>0</td>\n",
       "    </tr>\n",
       "    <tr>\n",
       "      <th>2</th>\n",
       "      <td>3610</td>\n",
       "      <td>4</td>\n",
       "    </tr>\n",
       "    <tr>\n",
       "      <th>3</th>\n",
       "      <td>2095</td>\n",
       "      <td>2 4</td>\n",
       "    </tr>\n",
       "    <tr>\n",
       "      <th>4</th>\n",
       "      <td>28909</td>\n",
       "      <td>4</td>\n",
       "    </tr>\n",
       "  </tbody>\n",
       "</table>\n",
       "</div>"
      ],
      "text/plain": [
       "   Image Label\n",
       "0  12874   1 4\n",
       "1  21466     0\n",
       "2   3610     4\n",
       "3   2095   2 4\n",
       "4  28909     4"
      ]
     },
     "metadata": {},
     "output_type": "display_data"
    }
   ],
   "source": [
    "display(train_df.head())"
   ]
  },
  {
   "cell_type": "code",
   "execution_count": 6,
   "metadata": {},
   "outputs": [
    {
     "data": {
      "image/png": "[encoded data removed]",
      "text/plain": [
       "<Figure size 800x600 with 1 Axes>"
      ]
     },
     "metadata": {},
     "output_type": "display_data"
    }
   ],
   "source": [
    "# Check class distribution\n",
    "\n",
    "label_counts = {}\n",
    "for labels in train_df['Label']:\n",
    "    label_list = labels.split()\n",
    "    for label in label_list:\n",
    "        if label in label_counts:\n",
    "            label_counts[label] += 1\n",
    "        else:\n",
    "            label_counts[label] = 1\n",
    "\n",
    "\n",
    "sorted_label_counts = {k: v for k, v in sorted(label_counts.items(), key=lambda item: item[1], reverse=True)}\n",
    "\n",
    "plt.figure(figsize=(8, 6))\n",
    "plt.bar(sorted_label_counts.keys(), sorted_label_counts.values())\n",
    "plt.title('Multi-label Class Distribution')\n",
    "plt.xlabel('Labels')\n",
    "plt.ylabel('Count')\n",
    "plt.xticks(rotation=45)\n",
    "plt.show()\n"
   ]
  },
  {
   "cell_type": "markdown",
   "metadata": {},
   "source": [
    "There is noticable class imbalance, 4 and 6 (Golgi apparatus, Nucleoplasm) have a much larger occurrence than the other classes.\n",
    "\n",
    "Weights will be calculated and a weighted loss function will be used that assigns higher weights to minority class samples during training."
   ]
  },
  {
   "cell_type": "code",
   "execution_count": 7,
   "metadata": {},
   "outputs": [
    {
     "name": "stdout",
     "output_type": "stream",
     "text": [
      "Class weights: {0: 1.3986194477791116, 1: 1.6294405594405594, 2: 1.1506666666666667, 3: 1.4936538461538462, 4: 0.3203767358724048, 5: 2.7125727590221187, 6: 0.5094228246611281, 7: 1.1251086431675519, 8: 2.787200956937799, 9: 2.3139026812313803}\n"
     ]
    }
   ],
   "source": [
    "from sklearn.utils.class_weight import compute_class_weight\n",
    "\n",
    "# Assuming 'train_df' contains your training dataset and 'Label' is the column name for the labels\n",
    "class_labels = train_df['Label'].astype(str)  # Convert labels to strings\n",
    "\n",
    "# Extract unique labels from the dataset\n",
    "unique_labels = set()\n",
    "for labels in class_labels:\n",
    "    unique_labels.update(labels.split())\n",
    "\n",
    "# Sort the unique labels to maintain a consistent order\n",
    "unique_labels = sorted(list(unique_labels))\n",
    "\n",
    "# Create a list of lists to hold labels for each sample\n",
    "labels_per_sample = [label.split() for label in class_labels]\n",
    "\n",
    "# Flatten the list of lists into a single list to calculate class weights\n",
    "flat_labels = []\n",
    "for labels in labels_per_sample:\n",
    "    flat_labels.extend(labels)\n",
    "\n",
    "# Calculate class weights based on occurrences\n",
    "class_weights = compute_class_weight('balanced', classes=unique_labels, y=flat_labels)\n",
    "weights_dict = {i:class_weights[i] for i in range(10)}\n",
    "print(\"Class weights:\", weights_dict)\n"
   ]
  },
  {
   "cell_type": "markdown",
   "metadata": {},
   "source": [
    "As we can see, more abundant classes 4 and 6 now carry lower weights."
   ]
  },
  {
   "cell_type": "code",
   "execution_count": 8,
   "metadata": {},
   "outputs": [
    {
     "name": "stdout",
     "output_type": "stream",
     "text": [
      "Sample Image Information:\n",
      "Image Size: (128, 128)\n",
      "Image Mode: RGB\n"
     ]
    }
   ],
   "source": [
    "# Explore image characteristics\n",
    "sample_image = Image.open('./train/0.png')\n",
    "\n",
    "print(\"Sample Image Information:\")\n",
    "print(f\"Image Size: {sample_image.size}\")\n",
    "print(f\"Image Mode: {sample_image.mode}\")"
   ]
  },
  {
   "cell_type": "code",
   "execution_count": 9,
   "metadata": {},
   "outputs": [
    {
     "name": "stdout",
     "output_type": "stream",
     "text": [
      "Number of missing labels: 0\n"
     ]
    }
   ],
   "source": [
    "# Check for missing values in the dataset\n",
    "missing_labels = train_df['Label'].isnull().sum()\n",
    "print(\"Number of missing labels:\", missing_labels)"
   ]
  },
  {
   "cell_type": "markdown",
   "metadata": {},
   "source": [
    "# 4. Preprocessing"
   ]
  },
  {
   "cell_type": "code",
   "execution_count": 10,
   "metadata": {},
   "outputs": [],
   "source": [
    "# Since we have a multi-label classification problem, images can have more than 1 label. In order to transform the labels to a tensor that can be used for training, we can encode them to the format of a tensor, using a one-hot-encoding.\n",
    "def encode_label(label: str):\n",
    "    # create tensor of length 10 for the one-hot-ecoding\n",
    "    target = torch.zeros(10)\n",
    "    # now iterate over the classes in the string and set the respective 0's to 1's\n",
    "    for l in str(label).split(\" \"):\n",
    "        target[int(l)] = 1.0\n",
    "    return target"
   ]
  },
  {
   "cell_type": "code",
   "execution_count": 11,
   "metadata": {},
   "outputs": [],
   "source": [
    "# function to decode the encoded labels back to its original format\n",
    "\n",
    "\n",
    "def decode_target(\n",
    "    target: torch.Tensor, text_labels: bool = False, threshold: float = 0.5\n",
    "):\n",
    "    result = []\n",
    "    for i, x in enumerate(target):\n",
    "        if x >= threshold:\n",
    "            if text_labels:\n",
    "                result.append(labels[i] + \"(\" + str(i) + \")\")\n",
    "            else:\n",
    "                result.append(str(i))\n",
    "    return \" \".join(result)"
   ]
  },
  {
   "cell_type": "code",
   "execution_count": 13,
   "metadata": {},
   "outputs": [
    {
     "name": "stdout",
     "output_type": "stream",
     "text": [
      "Mean per channel: [0.07819786874680719, 0.05209000149719703, 0.05402339364832606]\n",
      "Standard deviation per channel: [0.11591775167397261, 0.07654528936568694, 0.13421668103375917]\n"
     ]
    }
   ],
   "source": [
    "# To normalize the data we need to calculate the means and stdevs per channel for the images\n",
    "# Initialize lists to store channel-wise mean and standard deviation\n",
    "mean_per_channel = [0.0, 0.0, 0.0]\n",
    "std_per_channel = [0.0, 0.0, 0.0]\n",
    "\n",
    "# Iterate over all images in the dataset directory\n",
    "count = 0\n",
    "for filename in os.listdir(train_data_dir):\n",
    "    img = Image.open(os.path.join(train_data_dir, filename))\n",
    "    img = np.array(img) / 255.0  # Normalize pixel values to [0, 1]\n",
    "    \n",
    "    # Calculate per-channel mean\n",
    "    mean_per_channel[0] += np.mean(img[:, :, 0])\n",
    "    mean_per_channel[1] += np.mean(img[:, :, 1])\n",
    "    mean_per_channel[2] += np.mean(img[:, :, 2])\n",
    "    \n",
    "    # Calculate per-channel standard deviation\n",
    "    std_per_channel[0] += np.std(img[:, :, 0])\n",
    "    std_per_channel[1] += np.std(img[:, :, 1])\n",
    "    std_per_channel[2] += np.std(img[:, :, 2])\n",
    "    \n",
    "    count += 1\n",
    "\n",
    "# Calculate the mean and standard deviation across all images\n",
    "total_images = len(os.listdir(train_data_dir))\n",
    "mean_per_channel = [m / total_images for m in mean_per_channel]\n",
    "std_per_channel = [s / total_images for s in std_per_channel]\n",
    "\n",
    "print(\"Mean per channel:\", mean_per_channel)\n",
    "print(\"Standard deviation per channel:\", std_per_channel)"
   ]
  },
  {
   "cell_type": "markdown",
   "metadata": {},
   "source": [
    "We are not dealing with everyday images but fluorescence microscopy. In these images, the RGB values behave different than regular. We will normalize the values based on the means and stdevs per channel."
   ]
  },
  {
   "cell_type": "markdown",
   "metadata": {},
   "source": [
    "# 5. Convolutional Neural Network"
   ]
  },
  {
   "cell_type": "code",
   "execution_count": 14,
   "metadata": {},
   "outputs": [],
   "source": [
    "# We can create a PyTorchDataset that will ease the training process and can be used later for the DataLoader:\n",
    "\n",
    "\n",
    "class ProteinDataset(Dataset):\n",
    "    def __init__(self, dataframe, data_dir='./train', transform=None, mode='train'):\n",
    "        self.data = dataframe\n",
    "        self.transform = transform\n",
    "        self.data_dir = data_dir\n",
    "        self.mode = mode  # 'train' or 'test'\n",
    "\n",
    "    def __len__(self):\n",
    "        return len(self.data)\n",
    "\n",
    "    def __getitem__(self, idx):\n",
    "        if self.mode == 'train':\n",
    "            img_name = os.path.join(self.data_dir, str(self.data.iloc[idx, 0]) + '.png')\n",
    "            image = Image.open(img_name)\n",
    "            label = encode_label(self.data.iloc[idx, 1])\n",
    "\n",
    "            if self.transform:\n",
    "                image = self.transform(image)\n",
    "\n",
    "            return image, label\n",
    "        elif self.mode == 'test':\n",
    "            img_name = os.path.join(self.data_dir, str(self.data.iloc[idx, 0]) + '.png')\n",
    "            image = Image.open(img_name)\n",
    "\n",
    "            if self.transform:\n",
    "                image = self.transform(image)\n",
    "\n",
    "            return image, self.data.iloc[idx, 0]  # Return image name for test mode\n",
    "        else:\n",
    "            raise ValueError(\"Invalid mode. Use 'train' or 'test'.\")"
   ]
  },
  {
   "cell_type": "code",
   "execution_count": 15,
   "metadata": {},
   "outputs": [],
   "source": [
    "class ProteinCNN(nn.Module):\n",
    "    def __init__(self):\n",
    "        super(ProteinCNN, self).__init__()\n",
    "        self.conv1 = nn.Conv2d(\n",
    "            in_channels=3, out_channels=16, kernel_size=3, stride=1, padding=1\n",
    "        )\n",
    "        self.conv2 = nn.Conv2d(\n",
    "            in_channels=16, out_channels=32, kernel_size=3, stride=1, padding=1\n",
    "        )\n",
    "        self.fc1 = nn.Linear(\n",
    "            32 * 32 * 32, 256\n",
    "        )\n",
    "        self.fc2 = nn.Linear(\n",
    "            256, 10\n",
    "        )\n",
    "\n",
    "        self.relu = nn.ReLU()\n",
    "        self.pool = nn.MaxPool2d(kernel_size=2, stride=2)\n",
    "\n",
    "    def forward(self, x):\n",
    "        x = self.pool(self.relu(self.conv1(x)))\n",
    "        x = self.pool(self.relu(self.conv2(x)))\n",
    "        x = x.view(\n",
    "            -1, 32 * 32 * 32\n",
    "        )\n",
    "        x = self.relu(self.fc1(x))\n",
    "        x = self.fc2(x)\n",
    "        return x"
   ]
  },
  {
   "cell_type": "code",
   "execution_count": 16,
   "metadata": {},
   "outputs": [],
   "source": [
    "# Transformations\n",
    "transforms_train = transforms.Compose([\n",
    "    transforms.Resize((128, 128)),  # Resize images to 128x128 pixels if still needed\n",
    "    transforms.ToTensor(),\n",
    "    transforms.Normalize(mean=mean_per_channel, std=std_per_channel)\n",
    "])\n"
   ]
  },
  {
   "cell_type": "markdown",
   "metadata": {},
   "source": [
    "- Rotations and horizontal/vertical flips don't affect performance as these histology is not fixated in a certain orientation before imaging. All organelles are represented in a random rotation already.\n",
    "- Cropping is unnecesary as the images are focused on the organelles of interest. There is no background noise to remove.\n",
    "- "
   ]
  },
  {
   "cell_type": "code",
   "execution_count": 17,
   "metadata": {},
   "outputs": [],
   "source": [
    "\n",
    "train_size = int(0.8 * len(train_df))\n",
    "val_size = len(train_df) - train_size\n",
    "\n",
    "train_dataset, val_dataset = train_test_split(train_df, test_size=val_size)\n",
    "\n",
    "train_loader = DataLoader(ProteinDataset(train_dataset, transform=transforms_train), batch_size=32, shuffle=True)\n",
    "val_loader = DataLoader(ProteinDataset(val_dataset, transform=transforms_train), batch_size=32, shuffle=False)\n"
   ]
  },
  {
   "cell_type": "code",
   "execution_count": 18,
   "metadata": {},
   "outputs": [],
   "source": [
    "model = ProteinCNN()"
   ]
  },
  {
   "cell_type": "code",
   "execution_count": 19,
   "metadata": {},
   "outputs": [],
   "source": [
    "# Convert class_weights dictionary to a tensor\n",
    "class_weights_tensor = torch.tensor([class_weights[i] for i in range(len(class_weights))], dtype=torch.float)\n",
    "\n",
    "criterion = nn.BCEWithLogitsLoss(weight=class_weights_tensor) # take into account the class_weights to battle the class imbalance\n",
    "optimizer = optim.Adam(model.parameters(), lr=0.001)"
   ]
  },
  {
   "cell_type": "code",
   "execution_count": 20,
   "metadata": {},
   "outputs": [
    {
     "name": "stdout",
     "output_type": "stream",
     "text": [
      "Epoch 1/10, Training Loss: 0.45402030077847566, Validation Loss: 0.4295280173267286\n",
      "Epoch 2/10, Training Loss: 0.3987523685802113, Validation Loss: 0.4376473389949995\n",
      "Epoch 3/10, Training Loss: 0.28332568461244756, Validation Loss: 0.49259686531479824\n",
      "Epoch 4/10, Training Loss: 0.11809674561410756, Validation Loss: 0.7169362739803865\n",
      "Epoch 5/10, Training Loss: 0.04198456878302159, Validation Loss: 1.023675912434293\n",
      "Epoch 6/10, Training Loss: 0.020543378624194242, Validation Loss: 1.140686357144228\n",
      "Epoch 7/10, Training Loss: 0.01450223003864869, Validation Loss: 1.2843260156739618\n",
      "Epoch 8/10, Training Loss: 0.012611895419548375, Validation Loss: 1.4381994199507016\n",
      "Epoch 9/10, Training Loss: 0.012138812985972731, Validation Loss: 1.4444149038226335\n",
      "Epoch 10/10, Training Loss: 0.017792376396911485, Validation Loss: 1.4388187085230326\n",
      "Finished Training\n"
     ]
    }
   ],
   "source": [
    "\n",
    "num_epochs = 10\n",
    "\n",
    "for epoch in range(num_epochs):\n",
    "    model.train()\n",
    "    running_loss = 0.0\n",
    "    \n",
    "    for i, data in enumerate(train_loader, 0):\n",
    "        inputs, labels = data\n",
    "        optimizer.zero_grad()\n",
    "        \n",
    "        outputs = model(inputs)\n",
    "        loss = criterion(outputs, labels.float())\n",
    "        loss.backward()\n",
    "        optimizer.step()\n",
    "        \n",
    "        running_loss += loss.item()\n",
    "        \n",
    "    model.eval()\n",
    "    val_loss = 0.0\n",
    "    \n",
    "    with torch.no_grad():\n",
    "        for inputs, labels in val_loader:\n",
    "            outputs = model(inputs)\n",
    "            val_loss += criterion(outputs, labels.float()).item()\n",
    "    \n",
    "    print(f\"Epoch {epoch+1}/{num_epochs}, Training Loss: {running_loss / len(train_loader)}, Validation Loss: {val_loss / len(val_loader)}\")\n",
    "\n",
    "print('Finished Training')"
   ]
  },
  {
   "cell_type": "code",
   "execution_count": 23,
   "metadata": {},
   "outputs": [
    {
     "name": "stdout",
     "output_type": "stream",
     "text": [
      "Accuracy on validation set: 0.853183885640026\n",
      "Precision for each label: [0.48447205 0.13207547 0.2892562  0.23529412 0.73029772 0.25581395\n",
      " 0.53545586 0.44850498 0.18518519 0.23148148]\n",
      "Recall for each label: [0.21910112 0.07835821 0.16786571 0.06514658 0.57716263 0.06790123\n",
      " 0.40838852 0.32451923 0.12048193 0.12254902]\n",
      "F1-score for each label: [0.30174081 0.09836066 0.2124431  0.10204082 0.64476227 0.10731707\n",
      " 0.46336882 0.37656904 0.1459854  0.16025641]\n"
     ]
    }
   ],
   "source": [
    "model.eval()  # Set the model to evaluation mode\n",
    "correct = 0\n",
    "total = 0\n",
    "threshold = 0.5  # Define a threshold for prediction\n",
    "\n",
    "true_labels = []\n",
    "predicted_labels = []\n",
    "\n",
    "with torch.no_grad():\n",
    "    for inputs, labels in val_loader:\n",
    "        outputs = model(inputs)\n",
    "        \n",
    "        # Apply threshold to convert probabilities to binary predictions\n",
    "        predicted = (outputs > threshold).float()\n",
    "        \n",
    "        true_labels.extend(labels.cpu().numpy())\n",
    "        predicted_labels.extend(predicted.cpu().numpy())\n",
    "\n",
    "        total += labels.size(0) * labels.size(1)  # Total number of elements in the batch\n",
    "        correct += (predicted == labels).sum().item()  # Count correct predictions\n",
    "\n",
    "accuracy = correct / total\n",
    "print(f\"Accuracy on validation set: {accuracy}\")\n",
    "\n",
    "# Calculate precision, recall, and F1-score for each label separately\n",
    "precision = precision_score(true_labels, predicted_labels, average=None)\n",
    "recall = recall_score(true_labels, predicted_labels, average=None)\n",
    "f1 = f1_score(true_labels, predicted_labels, average=None)\n",
    "\n",
    "# Print or use the calculated scores as needed\n",
    "print(\"Precision for each label:\", precision)\n",
    "print(\"Recall for each label:\", recall)\n",
    "print(\"F1-score for each label:\", f1)"
   ]
  },
  {
   "cell_type": "code",
   "execution_count": 24,
   "metadata": {},
   "outputs": [],
   "source": [
    "# Predictions for the test set\n",
    "\n",
    "test_dataset = ProteinDataset(test_df, data_dir=test_data_dir, transform=transforms_train, mode='test')\n",
    "test_loader = DataLoader(test_dataset, batch_size=1, shuffle=False)"
   ]
  },
  {
   "cell_type": "code",
   "execution_count": 25,
   "metadata": {},
   "outputs": [],
   "source": [
    "# Make predictions for the test images\n",
    "model.eval()\n",
    "predictions = []\n",
    "\n",
    "with torch.no_grad():\n",
    "    for inputs, img_names in test_loader:\n",
    "        outputs = model(inputs)\n",
    "        \n",
    "        # Apply threshold for binary predictions\n",
    "        threshold = 0.5\n",
    "        predicted = (outputs > threshold).squeeze().cpu().numpy().astype(int)\n",
    "        \n",
    "        # Convert predictions to label format\n",
    "        predicted_labels = \" \".join([str(i) for i in np.where(predicted == 1)[0]])\n",
    "\n",
    "        # Append image names and predicted labels to list\n",
    "        predictions.append((img_names[0].item(), predicted_labels))\n",
    "\n",
    "# Write predictions to sub.csv\n",
    "submission_df = pd.DataFrame(predictions, columns=[\"Image\", \"Label\"])\n",
    "submission_df.to_csv(\"sub.csv\", index=False)"
   ]
  }
 ],
 "metadata": {
  "kernelspec": {
   "display_name": "ml_course_env",
   "language": "python",
   "name": "python3"
  },
  "language_info": {
   "codemirror_mode": {
    "name": "ipython",
    "version": 3
   },
   "file_extension": ".py",
   "mimetype": "text/x-python",
   "name": "python",
   "nbconvert_exporter": "python",
   "pygments_lexer": "ipython3",
   "version": "3.11.5"
  }
 },
 "nbformat": 4,
 "nbformat_minor": 2
}
